{
 "cells": [
  {
   "cell_type": "markdown",
   "metadata": {},
   "source": [
    "# **Challenge Nexialog**"
   ]
  },
  {
   "cell_type": "markdown",
   "metadata": {},
   "source": [
    "#### Objectif du projet\n",
    "<p style=\"text-align: justify;\">\n",
    "Des tests sont réalisés dans toutes les boxs, permettant d'identifier implicitement les interruptions de réseau.\n",
    "L'objectif est de mettre en place une approche non supervisé pour détecter des futurs problèmes sur une partie du réseau → Détection « d’anneaux ». Il faut détecter les noeuds du réseau qui sont défaillants en essayant d’anticiper le plus possible à l’avance.\n",
    "</p>\n"
   ]
  },
  {
   "cell_type": "code",
   "execution_count": 1,
   "metadata": {},
   "outputs": [],
   "source": [
    "import pandas as pd\n",
    "import matplotlib.pyplot as plt\n",
    "import plotly.io as pio\n",
    "import plotly.express as px\n",
    "import seaborn as sns"
   ]
  },
  {
   "cell_type": "markdown",
   "metadata": {},
   "source": [
    "### Importation"
   ]
  },
  {
   "cell_type": "code",
   "execution_count": 2,
   "metadata": {},
   "outputs": [],
   "source": [
    "df = pd.read_parquet(r'data\\250327_tests_fixe_dns_sah_202412_202501.parquet', engine=\"pyarrow\")"
   ]
  },
  {
   "cell_type": "code",
   "execution_count": 3,
   "metadata": {},
   "outputs": [
    {
     "data": {
      "text/html": [
       "<div>\n",
       "<style scoped>\n",
       "    .dataframe tbody tr th:only-of-type {\n",
       "        vertical-align: middle;\n",
       "    }\n",
       "\n",
       "    .dataframe tbody tr th {\n",
       "        vertical-align: top;\n",
       "    }\n",
       "\n",
       "    .dataframe thead th {\n",
       "        text-align: right;\n",
       "    }\n",
       "</style>\n",
       "<table border=\"1\" class=\"dataframe\">\n",
       "  <thead>\n",
       "    <tr style=\"text-align: right;\">\n",
       "      <th></th>\n",
       "      <th>date_hour</th>\n",
       "      <th>code_departement</th>\n",
       "      <th>olt_model</th>\n",
       "      <th>olt_name</th>\n",
       "      <th>peag_nro</th>\n",
       "      <th>boucle</th>\n",
       "      <th>dsp</th>\n",
       "      <th>pebib</th>\n",
       "      <th>pop_dns</th>\n",
       "      <th>nb_test_dns</th>\n",
       "      <th>avg_dns_time</th>\n",
       "      <th>std_dns_time</th>\n",
       "      <th>nb_test_scoring</th>\n",
       "      <th>avg_latence_scoring</th>\n",
       "      <th>std_latence_scoring</th>\n",
       "      <th>avg_score_scoring</th>\n",
       "      <th>std_score_scoring</th>\n",
       "      <th>nb_client_total</th>\n",
       "    </tr>\n",
       "  </thead>\n",
       "  <tbody>\n",
       "    <tr>\n",
       "      <th>0</th>\n",
       "      <td>2024-12-01</td>\n",
       "      <td>01</td>\n",
       "      <td>M11</td>\n",
       "      <td>01_olt_3</td>\n",
       "      <td>01_peag_3</td>\n",
       "      <td>BU1464</td>\n",
       "      <td>dsp_1</td>\n",
       "      <td>69_pebib_3</td>\n",
       "      <td>69_lyon</td>\n",
       "      <td>23</td>\n",
       "      <td>6.845641</td>\n",
       "      <td>0.377309</td>\n",
       "      <td>9</td>\n",
       "      <td>11.437500</td>\n",
       "      <td>0.281250</td>\n",
       "      <td>3.258823</td>\n",
       "      <td>0.375156</td>\n",
       "      <td>32</td>\n",
       "    </tr>\n",
       "    <tr>\n",
       "      <th>1</th>\n",
       "      <td>2024-12-01</td>\n",
       "      <td>01</td>\n",
       "      <td>M11</td>\n",
       "      <td>01_olt_4</td>\n",
       "      <td>01_peag_3</td>\n",
       "      <td>BU1464</td>\n",
       "      <td>dsp_1</td>\n",
       "      <td>69_pebib_3</td>\n",
       "      <td>69_lyon</td>\n",
       "      <td>10</td>\n",
       "      <td>7.060350</td>\n",
       "      <td>0.392031</td>\n",
       "      <td>4</td>\n",
       "      <td>12.656250</td>\n",
       "      <td>2.079476</td>\n",
       "      <td>2.576471</td>\n",
       "      <td>1.272078</td>\n",
       "      <td>14</td>\n",
       "    </tr>\n",
       "    <tr>\n",
       "      <th>2</th>\n",
       "      <td>2024-12-01</td>\n",
       "      <td>01</td>\n",
       "      <td>M13</td>\n",
       "      <td>01_olt_5</td>\n",
       "      <td>01_peag_4</td>\n",
       "      <td>BU458</td>\n",
       "      <td>dsp_1</td>\n",
       "      <td>None</td>\n",
       "      <td>69_lyon</td>\n",
       "      <td>28</td>\n",
       "      <td>2.787241</td>\n",
       "      <td>0.410001</td>\n",
       "      <td>16</td>\n",
       "      <td>8.542969</td>\n",
       "      <td>0.512205</td>\n",
       "      <td>2.868750</td>\n",
       "      <td>0.714469</td>\n",
       "      <td>44</td>\n",
       "    </tr>\n",
       "    <tr>\n",
       "      <th>3</th>\n",
       "      <td>2024-12-01</td>\n",
       "      <td>01</td>\n",
       "      <td>M13</td>\n",
       "      <td>71_olt_6</td>\n",
       "      <td>71_peag_5</td>\n",
       "      <td>BU1336</td>\n",
       "      <td>dsp_1</td>\n",
       "      <td>None</td>\n",
       "      <td>69_lyon</td>\n",
       "      <td>4</td>\n",
       "      <td>2.292375</td>\n",
       "      <td>0.241369</td>\n",
       "      <td>2</td>\n",
       "      <td>7.875000</td>\n",
       "      <td>0.000000</td>\n",
       "      <td>3.485294</td>\n",
       "      <td>0.000000</td>\n",
       "      <td>6</td>\n",
       "    </tr>\n",
       "    <tr>\n",
       "      <th>4</th>\n",
       "      <td>2024-12-01</td>\n",
       "      <td>01</td>\n",
       "      <td>M20</td>\n",
       "      <td>01_olt_10</td>\n",
       "      <td>01_peag_9</td>\n",
       "      <td>BU460</td>\n",
       "      <td>dsp_1</td>\n",
       "      <td>None</td>\n",
       "      <td>69_lyon</td>\n",
       "      <td>6</td>\n",
       "      <td>6.302625</td>\n",
       "      <td>0.447352</td>\n",
       "      <td>4</td>\n",
       "      <td>11.109375</td>\n",
       "      <td>0.281250</td>\n",
       "      <td>2.880882</td>\n",
       "      <td>0.379412</td>\n",
       "      <td>10</td>\n",
       "    </tr>\n",
       "  </tbody>\n",
       "</table>\n",
       "</div>"
      ],
      "text/plain": [
       "   date_hour code_departement olt_model   olt_name   peag_nro  boucle    dsp  \\\n",
       "0 2024-12-01               01       M11   01_olt_3  01_peag_3  BU1464  dsp_1   \n",
       "1 2024-12-01               01       M11   01_olt_4  01_peag_3  BU1464  dsp_1   \n",
       "2 2024-12-01               01       M13   01_olt_5  01_peag_4   BU458  dsp_1   \n",
       "3 2024-12-01               01       M13   71_olt_6  71_peag_5  BU1336  dsp_1   \n",
       "4 2024-12-01               01       M20  01_olt_10  01_peag_9   BU460  dsp_1   \n",
       "\n",
       "        pebib  pop_dns  nb_test_dns  avg_dns_time  std_dns_time  \\\n",
       "0  69_pebib_3  69_lyon           23      6.845641      0.377309   \n",
       "1  69_pebib_3  69_lyon           10      7.060350      0.392031   \n",
       "2        None  69_lyon           28      2.787241      0.410001   \n",
       "3        None  69_lyon            4      2.292375      0.241369   \n",
       "4        None  69_lyon            6      6.302625      0.447352   \n",
       "\n",
       "   nb_test_scoring  avg_latence_scoring  std_latence_scoring  \\\n",
       "0                9            11.437500             0.281250   \n",
       "1                4            12.656250             2.079476   \n",
       "2               16             8.542969             0.512205   \n",
       "3                2             7.875000             0.000000   \n",
       "4                4            11.109375             0.281250   \n",
       "\n",
       "   avg_score_scoring  std_score_scoring  nb_client_total  \n",
       "0           3.258823           0.375156               32  \n",
       "1           2.576471           1.272078               14  \n",
       "2           2.868750           0.714469               44  \n",
       "3           3.485294           0.000000                6  \n",
       "4           2.880882           0.379412               10  "
      ]
     },
     "execution_count": 3,
     "metadata": {},
     "output_type": "execute_result"
    }
   ],
   "source": [
    "df.head()"
   ]
  },
  {
   "cell_type": "markdown",
   "metadata": {},
   "source": [
    "## EDA"
   ]
  },
  {
   "cell_type": "markdown",
   "metadata": {},
   "source": [
    "#### Exploration"
   ]
  },
  {
   "cell_type": "code",
   "execution_count": 5,
   "metadata": {},
   "outputs": [
    {
     "name": "stdout",
     "output_type": "stream",
     "text": [
      "(9096908, 18)\n"
     ]
    },
    {
     "data": {
      "text/html": [
       "<div>\n",
       "<style scoped>\n",
       "    .dataframe tbody tr th:only-of-type {\n",
       "        vertical-align: middle;\n",
       "    }\n",
       "\n",
       "    .dataframe tbody tr th {\n",
       "        vertical-align: top;\n",
       "    }\n",
       "\n",
       "    .dataframe thead th {\n",
       "        text-align: right;\n",
       "    }\n",
       "</style>\n",
       "<table border=\"1\" class=\"dataframe\">\n",
       "  <thead>\n",
       "    <tr style=\"text-align: right;\">\n",
       "      <th></th>\n",
       "      <th>date_hour</th>\n",
       "      <th>code_departement</th>\n",
       "      <th>olt_model</th>\n",
       "      <th>olt_name</th>\n",
       "      <th>peag_nro</th>\n",
       "      <th>boucle</th>\n",
       "      <th>dsp</th>\n",
       "      <th>pebib</th>\n",
       "      <th>pop_dns</th>\n",
       "      <th>nb_test_dns</th>\n",
       "      <th>avg_dns_time</th>\n",
       "      <th>std_dns_time</th>\n",
       "      <th>nb_test_scoring</th>\n",
       "      <th>avg_latence_scoring</th>\n",
       "      <th>std_latence_scoring</th>\n",
       "      <th>avg_score_scoring</th>\n",
       "      <th>std_score_scoring</th>\n",
       "      <th>nb_client_total</th>\n",
       "    </tr>\n",
       "  </thead>\n",
       "  <tbody>\n",
       "    <tr>\n",
       "      <th>0</th>\n",
       "      <td>2024-12-01</td>\n",
       "      <td>01</td>\n",
       "      <td>M11</td>\n",
       "      <td>01_olt_3</td>\n",
       "      <td>01_peag_3</td>\n",
       "      <td>BU1464</td>\n",
       "      <td>dsp_1</td>\n",
       "      <td>69_pebib_3</td>\n",
       "      <td>69_lyon</td>\n",
       "      <td>23</td>\n",
       "      <td>6.845641</td>\n",
       "      <td>0.377309</td>\n",
       "      <td>9</td>\n",
       "      <td>11.437500</td>\n",
       "      <td>0.281250</td>\n",
       "      <td>3.258823</td>\n",
       "      <td>0.375156</td>\n",
       "      <td>32</td>\n",
       "    </tr>\n",
       "    <tr>\n",
       "      <th>1</th>\n",
       "      <td>2024-12-01</td>\n",
       "      <td>01</td>\n",
       "      <td>M11</td>\n",
       "      <td>01_olt_4</td>\n",
       "      <td>01_peag_3</td>\n",
       "      <td>BU1464</td>\n",
       "      <td>dsp_1</td>\n",
       "      <td>69_pebib_3</td>\n",
       "      <td>69_lyon</td>\n",
       "      <td>10</td>\n",
       "      <td>7.060350</td>\n",
       "      <td>0.392031</td>\n",
       "      <td>4</td>\n",
       "      <td>12.656250</td>\n",
       "      <td>2.079476</td>\n",
       "      <td>2.576471</td>\n",
       "      <td>1.272078</td>\n",
       "      <td>14</td>\n",
       "    </tr>\n",
       "    <tr>\n",
       "      <th>2</th>\n",
       "      <td>2024-12-01</td>\n",
       "      <td>01</td>\n",
       "      <td>M13</td>\n",
       "      <td>01_olt_5</td>\n",
       "      <td>01_peag_4</td>\n",
       "      <td>BU458</td>\n",
       "      <td>dsp_1</td>\n",
       "      <td>None</td>\n",
       "      <td>69_lyon</td>\n",
       "      <td>28</td>\n",
       "      <td>2.787241</td>\n",
       "      <td>0.410001</td>\n",
       "      <td>16</td>\n",
       "      <td>8.542969</td>\n",
       "      <td>0.512205</td>\n",
       "      <td>2.868750</td>\n",
       "      <td>0.714469</td>\n",
       "      <td>44</td>\n",
       "    </tr>\n",
       "    <tr>\n",
       "      <th>3</th>\n",
       "      <td>2024-12-01</td>\n",
       "      <td>01</td>\n",
       "      <td>M13</td>\n",
       "      <td>71_olt_6</td>\n",
       "      <td>71_peag_5</td>\n",
       "      <td>BU1336</td>\n",
       "      <td>dsp_1</td>\n",
       "      <td>None</td>\n",
       "      <td>69_lyon</td>\n",
       "      <td>4</td>\n",
       "      <td>2.292375</td>\n",
       "      <td>0.241369</td>\n",
       "      <td>2</td>\n",
       "      <td>7.875000</td>\n",
       "      <td>0.000000</td>\n",
       "      <td>3.485294</td>\n",
       "      <td>0.000000</td>\n",
       "      <td>6</td>\n",
       "    </tr>\n",
       "    <tr>\n",
       "      <th>4</th>\n",
       "      <td>2024-12-01</td>\n",
       "      <td>01</td>\n",
       "      <td>M20</td>\n",
       "      <td>01_olt_10</td>\n",
       "      <td>01_peag_9</td>\n",
       "      <td>BU460</td>\n",
       "      <td>dsp_1</td>\n",
       "      <td>None</td>\n",
       "      <td>69_lyon</td>\n",
       "      <td>6</td>\n",
       "      <td>6.302625</td>\n",
       "      <td>0.447352</td>\n",
       "      <td>4</td>\n",
       "      <td>11.109375</td>\n",
       "      <td>0.281250</td>\n",
       "      <td>2.880882</td>\n",
       "      <td>0.379412</td>\n",
       "      <td>10</td>\n",
       "    </tr>\n",
       "  </tbody>\n",
       "</table>\n",
       "</div>"
      ],
      "text/plain": [
       "   date_hour code_departement olt_model   olt_name   peag_nro  boucle    dsp  \\\n",
       "0 2024-12-01               01       M11   01_olt_3  01_peag_3  BU1464  dsp_1   \n",
       "1 2024-12-01               01       M11   01_olt_4  01_peag_3  BU1464  dsp_1   \n",
       "2 2024-12-01               01       M13   01_olt_5  01_peag_4   BU458  dsp_1   \n",
       "3 2024-12-01               01       M13   71_olt_6  71_peag_5  BU1336  dsp_1   \n",
       "4 2024-12-01               01       M20  01_olt_10  01_peag_9   BU460  dsp_1   \n",
       "\n",
       "        pebib  pop_dns  nb_test_dns  avg_dns_time  std_dns_time  \\\n",
       "0  69_pebib_3  69_lyon           23      6.845641      0.377309   \n",
       "1  69_pebib_3  69_lyon           10      7.060350      0.392031   \n",
       "2        None  69_lyon           28      2.787241      0.410001   \n",
       "3        None  69_lyon            4      2.292375      0.241369   \n",
       "4        None  69_lyon            6      6.302625      0.447352   \n",
       "\n",
       "   nb_test_scoring  avg_latence_scoring  std_latence_scoring  \\\n",
       "0                9            11.437500             0.281250   \n",
       "1                4            12.656250             2.079476   \n",
       "2               16             8.542969             0.512205   \n",
       "3                2             7.875000             0.000000   \n",
       "4                4            11.109375             0.281250   \n",
       "\n",
       "   avg_score_scoring  std_score_scoring  nb_client_total  \n",
       "0           3.258823           0.375156               32  \n",
       "1           2.576471           1.272078               14  \n",
       "2           2.868750           0.714469               44  \n",
       "3           3.485294           0.000000                6  \n",
       "4           2.880882           0.379412               10  "
      ]
     },
     "execution_count": 5,
     "metadata": {},
     "output_type": "execute_result"
    }
   ],
   "source": [
    "print(df.shape)\n",
    "df.head()"
   ]
  },
  {
   "cell_type": "code",
   "execution_count": 7,
   "metadata": {},
   "outputs": [
    {
     "data": {
      "text/html": [
       "<div>\n",
       "<style scoped>\n",
       "    .dataframe tbody tr th:only-of-type {\n",
       "        vertical-align: middle;\n",
       "    }\n",
       "\n",
       "    .dataframe tbody tr th {\n",
       "        vertical-align: top;\n",
       "    }\n",
       "\n",
       "    .dataframe thead th {\n",
       "        text-align: right;\n",
       "    }\n",
       "</style>\n",
       "<table border=\"1\" class=\"dataframe\">\n",
       "  <thead>\n",
       "    <tr style=\"text-align: right;\">\n",
       "      <th></th>\n",
       "      <th>date_hour</th>\n",
       "      <th>code_departement</th>\n",
       "      <th>olt_model</th>\n",
       "      <th>olt_name</th>\n",
       "      <th>peag_nro</th>\n",
       "      <th>boucle</th>\n",
       "      <th>dsp</th>\n",
       "      <th>pebib</th>\n",
       "      <th>pop_dns</th>\n",
       "      <th>nb_test_dns</th>\n",
       "      <th>avg_dns_time</th>\n",
       "      <th>std_dns_time</th>\n",
       "      <th>nb_test_scoring</th>\n",
       "      <th>avg_latence_scoring</th>\n",
       "      <th>std_latence_scoring</th>\n",
       "      <th>avg_score_scoring</th>\n",
       "      <th>std_score_scoring</th>\n",
       "      <th>nb_client_total</th>\n",
       "    </tr>\n",
       "  </thead>\n",
       "  <tbody>\n",
       "    <tr>\n",
       "      <th>9096906</th>\n",
       "      <td>2025-01-31 23:00:00</td>\n",
       "      <td>95</td>\n",
       "      <td>old1</td>\n",
       "      <td>95_olt_5602</td>\n",
       "      <td>95_peag_2919</td>\n",
       "      <td>BU24</td>\n",
       "      <td>dsp_1</td>\n",
       "      <td>92_pebib_11</td>\n",
       "      <td>77_mit</td>\n",
       "      <td>12</td>\n",
       "      <td>3.548938</td>\n",
       "      <td>0.802115</td>\n",
       "      <td>7</td>\n",
       "      <td>5.6250</td>\n",
       "      <td>0.918559</td>\n",
       "      <td>2.301681</td>\n",
       "      <td>0.235630</td>\n",
       "      <td>19</td>\n",
       "    </tr>\n",
       "    <tr>\n",
       "      <th>9096907</th>\n",
       "      <td>2025-01-31 23:00:00</td>\n",
       "      <td>95</td>\n",
       "      <td>old1</td>\n",
       "      <td>95_olt_5603</td>\n",
       "      <td>78_peag_2918</td>\n",
       "      <td>BU22</td>\n",
       "      <td>dsp_1</td>\n",
       "      <td>78_pebib_184</td>\n",
       "      <td>94_cbv</td>\n",
       "      <td>34</td>\n",
       "      <td>2.701279</td>\n",
       "      <td>0.983747</td>\n",
       "      <td>9</td>\n",
       "      <td>5.6875</td>\n",
       "      <td>0.713979</td>\n",
       "      <td>2.273529</td>\n",
       "      <td>0.297753</td>\n",
       "      <td>43</td>\n",
       "    </tr>\n",
       "  </tbody>\n",
       "</table>\n",
       "</div>"
      ],
      "text/plain": [
       "                  date_hour code_departement olt_model     olt_name  \\\n",
       "9096906 2025-01-31 23:00:00               95      old1  95_olt_5602   \n",
       "9096907 2025-01-31 23:00:00               95      old1  95_olt_5603   \n",
       "\n",
       "             peag_nro boucle    dsp         pebib pop_dns  nb_test_dns  \\\n",
       "9096906  95_peag_2919   BU24  dsp_1   92_pebib_11  77_mit           12   \n",
       "9096907  78_peag_2918   BU22  dsp_1  78_pebib_184  94_cbv           34   \n",
       "\n",
       "         avg_dns_time  std_dns_time  nb_test_scoring  avg_latence_scoring  \\\n",
       "9096906      3.548938      0.802115                7               5.6250   \n",
       "9096907      2.701279      0.983747                9               5.6875   \n",
       "\n",
       "         std_latence_scoring  avg_score_scoring  std_score_scoring  \\\n",
       "9096906             0.918559           2.301681           0.235630   \n",
       "9096907             0.713979           2.273529           0.297753   \n",
       "\n",
       "         nb_client_total  \n",
       "9096906               19  \n",
       "9096907               43  "
      ]
     },
     "execution_count": 7,
     "metadata": {},
     "output_type": "execute_result"
    }
   ],
   "source": [
    "df.tail(2)"
   ]
  },
  {
   "cell_type": "code",
   "execution_count": 44,
   "metadata": {},
   "outputs": [
    {
     "data": {
      "text/plain": [
       "date_hour               1488\n",
       "code_departement          96\n",
       "olt_model                  7\n",
       "olt_name                6061\n",
       "peag_nro                3176\n",
       "boucle                   537\n",
       "dsp                       32\n",
       "pebib                    212\n",
       "pop_dns                    8\n",
       "nb_test_dns              579\n",
       "avg_dns_time           35743\n",
       "std_dns_time           29884\n",
       "nb_test_scoring          185\n",
       "avg_latence_scoring    16181\n",
       "std_latence_scoring    21260\n",
       "avg_score_scoring       2806\n",
       "std_score_scoring       1660\n",
       "nb_client_total          664\n",
       "dtype: int64"
      ]
     },
     "execution_count": 44,
     "metadata": {},
     "output_type": "execute_result"
    }
   ],
   "source": [
    "df.nunique()"
   ]
  },
  {
   "cell_type": "markdown",
   "metadata": {},
   "source": [
    "C'est une période de tests de 2 mois avec une fréquence par heure"
   ]
  },
  {
   "cell_type": "code",
   "execution_count": 8,
   "metadata": {},
   "outputs": [
    {
     "data": {
      "text/plain": [
       "date_hour              datetime64[ns]\n",
       "code_departement               object\n",
       "olt_model                      object\n",
       "olt_name                       object\n",
       "peag_nro                       object\n",
       "boucle                         object\n",
       "dsp                            object\n",
       "pebib                          object\n",
       "pop_dns                        object\n",
       "nb_test_dns                     int64\n",
       "avg_dns_time                  float64\n",
       "std_dns_time                  float64\n",
       "nb_test_scoring                 int64\n",
       "avg_latence_scoring           float64\n",
       "std_latence_scoring           float64\n",
       "avg_score_scoring             float64\n",
       "std_score_scoring             float64\n",
       "nb_client_total                 int64\n",
       "dtype: object"
      ]
     },
     "execution_count": 8,
     "metadata": {},
     "output_type": "execute_result"
    }
   ],
   "source": [
    "df.dtypes"
   ]
  },
  {
   "cell_type": "code",
   "execution_count": 14,
   "metadata": {},
   "outputs": [
    {
     "name": "stdout",
     "output_type": "stream",
     "text": [
      "Pourcentage de valeurs manquantes par variable (en %) :\n",
      "\n",
      "pebib                  44.60\n",
      "std_score_scoring      23.60\n",
      "std_latence_scoring    23.60\n",
      "std_dns_time            9.43\n",
      "avg_latence_scoring     8.61\n",
      "avg_score_scoring       8.61\n",
      "avg_dns_time            7.88\n",
      "pop_dns                 7.88\n",
      "olt_model               0.09\n",
      "date_hour               0.00\n",
      "code_departement        0.00\n",
      "nb_test_dns             0.00\n",
      "peag_nro                0.00\n",
      "boucle                  0.00\n",
      "olt_name                0.00\n",
      "dsp                     0.00\n",
      "nb_test_scoring         0.00\n",
      "nb_client_total         0.00\n",
      "dtype: float64\n"
     ]
    }
   ],
   "source": [
    "def afficher_pourcentage_valeurs_manquantes(df):\n",
    "    pourcentage_manquantes = round(df.isna().mean() * 100, 2)\n",
    "    pourcentage_manquantes = pourcentage_manquantes.sort_values(ascending=False)\n",
    "    print(\"Pourcentage de valeurs manquantes par variable (en %) :\\n\")\n",
    "    print(pourcentage_manquantes)\n",
    "\n",
    "afficher_pourcentage_valeurs_manquantes(df)"
   ]
  },
  {
   "cell_type": "markdown",
   "metadata": {},
   "source": [
    "Preprocessing de la date"
   ]
  },
  {
   "cell_type": "code",
   "execution_count": 11,
   "metadata": {},
   "outputs": [
    {
     "name": "stdout",
     "output_type": "stream",
     "text": []
    }
   ],
   "source": [
    "df['date_hour'] = pd.to_datetime(df['date_hour'])\n",
    "df['date_hour'].tail()"
   ]
  },
  {
   "cell_type": "markdown",
   "metadata": {},
   "source": [
    "Modèles d'OLT :"
   ]
  },
  {
   "cell_type": "code",
   "execution_count": 12,
   "metadata": {},
   "outputs": [
    {
     "name": "stdout",
     "output_type": "stream",
     "text": []
    }
   ],
   "source": [
    "df.olt_model.unique()"
   ]
  },
  {
   "cell_type": "markdown",
   "metadata": {},
   "source": [
    "**Observons les liens entre les différentes étapes du réseau**"
   ]
  },
  {
   "cell_type": "code",
   "execution_count": 13,
   "metadata": {},
   "outputs": [],
   "source": [
    "df['OLT_PEAG_boucle'] = df['olt_name'] + df['peag_nro']  + df['boucle'] "
   ]
  },
  {
   "cell_type": "code",
   "execution_count": 14,
   "metadata": {},
   "outputs": [
    {
     "name": "stdout",
     "output_type": "stream",
     "text": []
    }
   ],
   "source": [
    "print('Nombre total de combinaisons OLT x PEAG x boucle :',df['OLT_PEAG_boucle'].nunique())\n",
    "print('Nombre de noms de OLT :', df.olt_name.nunique())\n",
    "print('Nombre de noms de PEAG :', df.peag_nro.nunique())\n",
    "print('Nombre de noms de boucle :', df.boucle.nunique())\n",
    "print('Nombre de noms de PEBIB :', df.pebib.nunique())\n",
    "print('Nombre de noms de DSP :', df.dsp.nunique())\n",
    "\n",
    "\n",
    "# print('Nombre de départements :', df.code_departement.nunique())"
   ]
  },
  {
   "cell_type": "markdown",
   "metadata": {},
   "source": [
    "Nombre d'associations de chaque noeud à l'autre"
   ]
  },
  {
   "cell_type": "code",
   "execution_count": 15,
   "metadata": {},
   "outputs": [
    {
     "name": "stdout",
     "output_type": "stream",
     "text": []
    }
   ],
   "source": [
    "print('Nombre d\\'OLT par PEAG :', round(df.groupby('peag_nro')['olt_name'].nunique().mean(), 2))\n",
    "print('Nombre de PEAG par boucle :', round(df.groupby('boucle')['peag_nro'].nunique().mean(), 2))\n",
    "print('Nombre de boucle par PEBIB :', round(df.groupby('pebib')['boucle'].nunique().mean(), 2))\n",
    "print('Nombre de PEBIB par DSP :', round(df.groupby('dsp')['pebib'].nunique().mean(), 2))"
   ]
  },
  {
   "cell_type": "markdown",
   "metadata": {},
   "source": [
    "Nombre de noeuds testés par heure"
   ]
  },
  {
   "cell_type": "code",
   "execution_count": 16,
   "metadata": {},
   "outputs": [
    {
     "name": "stdout",
     "output_type": "stream",
     "text": []
    }
   ],
   "source": [
    "exemple_date_list = [\n",
    "    '2024-12-30 23:00:00',\n",
    "    '2025-01-14 01:00:00',\n",
    "    '2025-01-01 10:00:00',\n",
    "    '2024-12-17 12:00:00',\n",
    "    '2024-12-12 07:00:00'\n",
    "]\n",
    "\n",
    "for date in exemple_date_list:\n",
    "    df_exemple = df[df['date_hour'] == date].copy()\n",
    "    print('Nombre de boucles testées le', date, ':')\n",
    "    print('Nombre de lignes pour cette date :', len(df_exemple))\n",
    "    print('Nombre total de boucles x PEAG x OLT :',df_exemple['OLT_PEAG_boucle'].nunique())\n",
    "    print('Nombre de noms de OLT :', df_exemple.olt_name.nunique())\n",
    "    print('Nombre de noms de PEAG :', df_exemple.peag_nro.nunique())\n",
    "    print('Nombre de noms de PEBIB :', df_exemple.pebib.nunique())\n",
    "    print('Nombre de noms de DSP :', df_exemple.dsp.nunique())\n",
    "    print('-'*5)\n",
    "    print('Nombre de départements :', df_exemple.code_departement.nunique())\n",
    "    print('-'*50)\n",
    "    "
   ]
  },
  {
   "cell_type": "markdown",
   "metadata": {},
   "source": [
    "#### Data Analyse"
   ]
  },
  {
   "cell_type": "markdown",
   "metadata": {},
   "source": [
    "**Obervons un seul OLT particulier**"
   ]
  },
  {
   "cell_type": "code",
   "execution_count": 17,
   "metadata": {},
   "outputs": [],
   "source": [
    "olt_choisi = '01_olt_5'"
   ]
  },
  {
   "cell_type": "code",
   "execution_count": 18,
   "metadata": {},
   "outputs": [
    {
     "name": "stdout",
     "output_type": "stream",
     "text": []
    },
    {
     "name": "stdout",
     "output_type": "stream",
     "text": []
    }
   ],
   "source": [
    "df_one_olt = df[df['olt_name'] == olt_choisi]\n",
    "print(df_one_olt.shape)\n",
    "print('Nombre d\\'heures :', df_one_olt['date_hour'].nunique())\n",
    "df_one_olt.head()"
   ]
  },
  {
   "cell_type": "markdown",
   "metadata": {},
   "source": [
    "24 h * 31 jours * 2 mois = 1488. Ici, on a 1632 lignes, observons pourquoi :"
   ]
  },
  {
   "cell_type": "code",
   "execution_count": 19,
   "metadata": {},
   "outputs": [
    {
     "name": "stdout",
     "output_type": "stream",
     "text": []
    }
   ],
   "source": [
    "df_one_olt_duplicate = df_one_olt[df_one_olt['date_hour'].duplicated(keep=False)]\n",
    "print('Nombre de lignes qui ont été dupliquées :', len(df_one_olt_duplicate))"
   ]
  },
  {
   "cell_type": "markdown",
   "metadata": {},
   "source": [
    "Observons les lignes qui sont dupliquées :"
   ]
  },
  {
   "cell_type": "code",
   "execution_count": 20,
   "metadata": {},
   "outputs": [
    {
     "name": "stdout",
     "output_type": "stream",
     "text": []
    },
    {
     "name": "stdout",
     "output_type": "stream",
     "text": []
    }
   ],
   "source": [
    "df_one_olt_duplicate.sort_values(by='date_hour', inplace=True)\n",
    "df_one_olt_duplicate.head()"
   ]
  },
  {
   "cell_type": "markdown",
   "metadata": {},
   "source": [
    "Cela semble être des erreurs, le même test affiché plusieurs fois. Il faut donc les supprimer."
   ]
  },
  {
   "cell_type": "code",
   "execution_count": 21,
   "metadata": {},
   "outputs": [
    {
     "name": "stdout",
     "output_type": "stream",
     "text": []
    }
   ],
   "source": [
    "df_one_olt = df_one_olt.drop_duplicates(subset='date_hour', keep='first')\n",
    "df_one_olt.shape"
   ]
  },
  {
   "cell_type": "markdown",
   "metadata": {},
   "source": [
    "**Visualisations**"
   ]
  },
  {
   "cell_type": "markdown",
   "metadata": {},
   "source": [
    "Ajout de colonnes"
   ]
  },
  {
   "cell_type": "code",
   "execution_count": 22,
   "metadata": {},
   "outputs": [],
   "source": [
    "pio.renderers.default = 'notebook'\n",
    "col_palette=['#5533FF','#19A368','#521265','#751818',\"#FF5733\",'#5533FF','#19A368','#5533FF','#19A368', '#521265']\n",
    "col_to_plot = ['nb_test_dns', 'avg_dns_time', 'std_dns_time', 'nb_test_scoring', 'avg_latence_scoring',\n",
    "       'std_latence_scoring', 'avg_score_scoring', 'std_score_scoring', 'nb_client_total']"
   ]
  },
  {
   "cell_type": "markdown",
   "metadata": {},
   "source": [
    "Lineplots"
   ]
  },
  {
   "cell_type": "code",
   "execution_count": 23,
   "metadata": {},
   "outputs": [
    {
     "name": "stdout",
     "output_type": "stream",
     "text": []
    },
    {
     "name": "stdout",
     "output_type": "stream",
     "text": []
    },
    {
     "name": "stdout",
     "output_type": "stream",
     "text": []
    },
    {
     "name": "stdout",
     "output_type": "stream",
     "text": []
    },
    {
     "name": "stdout",
     "output_type": "stream",
     "text": []
    },
    {
     "name": "stdout",
     "output_type": "stream",
     "text": []
    },
    {
     "name": "stdout",
     "output_type": "stream",
     "text": []
    },
    {
     "name": "stdout",
     "output_type": "stream",
     "text": []
    },
    {
     "name": "stdout",
     "output_type": "stream",
     "text": []
    }
   ],
   "source": [
    "# visualisation d'un OLT\n",
    "for i, feature in enumerate(col_to_plot):\n",
    "    plt.figure(figsize=(10, 5))\n",
    "    plt.plot(df_one_olt['date_hour'], df_one_olt[feature], label=feature, color=col_palette[i])\n",
    "    \n",
    "    plt.title(f\"{feature} - {olt_choisi}\")\n",
    "    plt.xlabel('Date')\n",
    "    plt.ylabel(feature)\n",
    "    plt.legend()\n",
    "    plt.grid()\n",
    "\n",
    "    plt.xticks(rotation=45)\n",
    "    \n",
    "    plt.show()"
   ]
  },
  {
   "cell_type": "markdown",
   "metadata": {},
   "source": [
    "On peut supposer que les pics dans les données de variables de test sont associées à des problèmes sur le réseau. Ce sont certainement des anomalies."
   ]
  },
  {
   "cell_type": "markdown",
   "metadata": {},
   "source": [
    "Histogrammes (Distribution)"
   ]
  },
  {
   "cell_type": "code",
   "execution_count": 24,
   "metadata": {},
   "outputs": [
    {
     "name": "stdout",
     "output_type": "stream",
     "text": []
    },
    {
     "name": "stdout",
     "output_type": "stream",
     "text": []
    },
    {
     "name": "stdout",
     "output_type": "stream",
     "text": []
    },
    {
     "name": "stdout",
     "output_type": "stream",
     "text": []
    },
    {
     "name": "stdout",
     "output_type": "stream",
     "text": []
    },
    {
     "name": "stdout",
     "output_type": "stream",
     "text": []
    },
    {
     "name": "stdout",
     "output_type": "stream",
     "text": []
    },
    {
     "name": "stdout",
     "output_type": "stream",
     "text": []
    },
    {
     "name": "stdout",
     "output_type": "stream",
     "text": []
    }
   ],
   "source": [
    "# Visualisation avec des histogrammes\n",
    "for i, feature in enumerate(col_to_plot):\n",
    "    plt.figure(figsize=(10, 5))\n",
    "\n",
    "    plt.hist(df_one_olt[feature], bins=100, color=col_palette[i], alpha=0.7, label=feature)\n",
    "    \n",
    "\n",
    "    plt.title(f\"Distribution de {feature} - {olt_choisi}\")\n",
    "    plt.xlabel(feature)\n",
    "    plt.ylabel('Fréquence')\n",
    "    \n",
    "    plt.legend()\n",
    "    plt.grid(True)\n",
    "\n",
    "    plt.show()"
   ]
  },
  {
   "cell_type": "markdown",
   "metadata": {},
   "source": [
    "Les valeurs des queues de distribution sont certainement des anomalies"
   ]
  },
  {
   "cell_type": "markdown",
   "metadata": {},
   "source": [
    "# Sélection des données"
   ]
  },
  {
   "cell_type": "code",
   "execution_count": 2,
   "metadata": {},
   "outputs": [],
   "source": [
    "def visualize_distribution_single(df, label):\n",
    "    plt.figure(figsize=(12, 6))\n",
    "    sns.histplot(df['count'], bins=30)\n",
    "    plt.title(f'Distribution of Counts - {label}')\n",
    "    plt.xlabel('Count')\n",
    "    plt.ylabel('Frequency')\n",
    "    plt.show()"
   ]
  },
  {
   "cell_type": "code",
   "execution_count": 3,
   "metadata": {},
   "outputs": [
    {
     "name": "stdout",
     "output_type": "stream",
     "text": [
      "Shape du DF original : (9096908, 18)\n",
      "Suppression des doublons complets : 0 lignes supprimées\n",
      "Suppression des doublons sur colonnes clés : 0 lignes supprimées\n",
      "Suppression des lignes avec std_dns_time == 0 : 287 lignes supprimées\n",
      "Suppression des lignes avec std_latence_scoring == 0 : 873513 lignes supprimées\n",
      "Suppression des lignes avec std_score_scoring == 0 : 335411 lignes supprimées\n",
      "Suppression des groupes avec moins de 100 lignes : 17770 lignes supprimées\n",
      "Finalement, nous avons 7869927 lignes restantes\n"
     ]
    }
   ],
   "source": [
    "df = pd.read_parquet(r'data\\250327_tests_fixe_dns_sah_202412_202501.parquet', engine=\"pyarrow\")\n",
    "\n",
    "def select_the_data(df, seuil):\n",
    "    \"\"\"  \n",
    "    Cette fonction récupère un DataFrame et un seuil en paramètre et retourne un nouveau DataFrame\n",
    "    contenant uniquement les combinaisons PEAG x OLT x PEBIB x boucle x code_departement, après :\n",
    "      - suppression des doublons,\n",
    "      - arrondi des colonnes de tests,\n",
    "      - suppression des lignes avec écarts-types égaux à 0,\n",
    "      - puis suppression des groupes (basés sur PEAG_OLT_PEBIB) qui ont moins de 'seuil' observations.\n",
    "    \"\"\"\n",
    "    initial_shape = df.shape\n",
    "    print(f'Shape du DF original : {initial_shape}')\n",
    "\n",
    "    cols_to_fix = ['avg_dns_time', 'std_dns_time', 'std_latence_scoring', \n",
    "                   'std_score_scoring', 'avg_latence_scoring', 'avg_score_scoring']\n",
    "    std_cols = ['std_dns_time', 'std_latence_scoring', 'std_score_scoring']\n",
    "\n",
    "    # Arrondir pour éviter que des lignes identiques ne soient considérées différentes\n",
    "    df[cols_to_fix] = df[cols_to_fix].round(3)\n",
    "    df['pebib'] = df['pebib'].fillna('PEBIB non defini')\n",
    "\n",
    "    # Suppression des doublons complets\n",
    "    df = df.drop_duplicates()\n",
    "    print('Suppression des doublons complets :', initial_shape[0] - df.shape[0], 'lignes supprimées')\n",
    "    shape_after_full_drop = df.shape\n",
    "\n",
    "    # Suppression des doublons sur les colonnes clés\n",
    "    df = df.drop_duplicates(subset=['date_hour', 'peag_nro', 'olt_name', 'pebib', 'boucle', \n",
    "                                      'code_departement', 'olt_model', 'dsp', 'pop_dns'], keep='first')\n",
    "    print('Suppression des doublons sur colonnes clés :', shape_after_full_drop[0] - df.shape[0], 'lignes supprimées')\n",
    "    shape_after_subset_drop = df.shape\n",
    "\n",
    "    # Création de la colonne de combinaison unique\n",
    "    df['PEAG_OLT_PEBIB'] = (df['peag_nro'].astype(str) + df['olt_name'].astype(str) + \n",
    "                            df['pebib'].astype(str) + df['boucle'].astype(str) + \n",
    "                            df['code_departement'].astype(str))\n",
    "\n",
    "    # Suppression des lignes où les écarts-types sont nuls\n",
    "    for col in std_cols:\n",
    "        avant = df.shape[0]\n",
    "        df = df[df[col] != 0]\n",
    "        print(f\"Suppression des lignes avec {col} == 0 : {avant - df.shape[0]} lignes supprimées\")\n",
    "\n",
    "    # À ce stade, on effectue le groupby sur PEAG_OLT_PEBIB et on ne garde que les groupes ayant au moins 'seuil' lignes\n",
    "    group_counts = df.groupby('PEAG_OLT_PEBIB').size()\n",
    "    valid_groups = group_counts[group_counts >= seuil].index\n",
    "    avant_group_filter = df.shape[0]\n",
    "    df = df[df['PEAG_OLT_PEBIB'].isin(valid_groups)]\n",
    "    print(f\"Suppression des groupes avec moins de {seuil} lignes : {avant_group_filter - df.shape[0]} lignes supprimées\")\n",
    "\n",
    "    # Suppression des colonnes non nécessaires\n",
    "    # df = df.drop(columns=['olt_model', 'olt_name', 'peag_nro', 'boucle', 'dsp', 'pebib', 'pop_dns', 'nb_client_total'])\n",
    "    print(f\"Finalement, nous avons {df.shape[0]} lignes restantes\")\n",
    "\n",
    "    return df\n",
    "\n",
    "# Exemple d'utilisation\n",
    "new_df = select_the_data(df,100)\n",
    "new_df_grouped = new_df.groupby('PEAG_OLT_PEBIB').size().reset_index(name='count').sort_values(by='count', ascending=False)\n",
    "new_df.to_csv(\"new_df.csv\", index=False)"
   ]
  },
  {
   "cell_type": "code",
   "execution_count": 4,
   "metadata": {},
   "outputs": [
    {
     "data": {
      "image/png": "[encoded data removed]",
      "text/plain": [
       "<Figure size 1200x600 with 1 Axes>"
      ]
     },
     "metadata": {},
     "output_type": "display_data"
    }
   ],
   "source": [
    "visualize_distribution_single(new_df_grouped, \"Distribution du nombre d'observation par combinaison\")"
   ]
  },
  {
   "cell_type": "code",
   "execution_count": 85,
   "metadata": {},
   "outputs": [
    {
     "data": {
      "text/html": [
       "<div>\n",
       "<style scoped>\n",
       "    .dataframe tbody tr th:only-of-type {\n",
       "        vertical-align: middle;\n",
       "    }\n",
       "\n",
       "    .dataframe tbody tr th {\n",
       "        vertical-align: top;\n",
       "    }\n",
       "\n",
       "    .dataframe thead th {\n",
       "        text-align: right;\n",
       "    }\n",
       "</style>\n",
       "<table border=\"1\" class=\"dataframe\">\n",
       "  <thead>\n",
       "    <tr style=\"text-align: right;\">\n",
       "      <th></th>\n",
       "      <th>PEAG_OLT_PEBIB</th>\n",
       "      <th>count</th>\n",
       "    </tr>\n",
       "  </thead>\n",
       "  <tbody>\n",
       "    <tr>\n",
       "      <th>8052</th>\n",
       "      <td>95_peag_292795_olt_562192_pebib_10BU54095</td>\n",
       "      <td>1488</td>\n",
       "    </tr>\n",
       "    <tr>\n",
       "      <th>8053</th>\n",
       "      <td>95_peag_292895_olt_562477_pebib_160BU495</td>\n",
       "      <td>1488</td>\n",
       "    </tr>\n",
       "    <tr>\n",
       "      <th>8054</th>\n",
       "      <td>95_peag_292995_olt_562692_pebib_10BU54095</td>\n",
       "      <td>1488</td>\n",
       "    </tr>\n",
       "    <tr>\n",
       "      <th>8026</th>\n",
       "      <td>94_peag_291594_olt_559294_pebib_173BU51094</td>\n",
       "      <td>1488</td>\n",
       "    </tr>\n",
       "    <tr>\n",
       "      <th>8027</th>\n",
       "      <td>94_peag_291694_olt_559694_pebib_201BU53894</td>\n",
       "      <td>1488</td>\n",
       "    </tr>\n",
       "    <tr>\n",
       "      <th>...</th>\n",
       "      <td>...</td>\n",
       "      <td>...</td>\n",
       "    </tr>\n",
       "    <tr>\n",
       "      <th>5570</th>\n",
       "      <td>78_peag_239478_olt_474678_pebib_181BU2478</td>\n",
       "      <td>100</td>\n",
       "    </tr>\n",
       "    <tr>\n",
       "      <th>5578</th>\n",
       "      <td>78_peag_239578_olt_473478_pebib_134BU151278</td>\n",
       "      <td>100</td>\n",
       "    </tr>\n",
       "    <tr>\n",
       "      <th>5724</th>\n",
       "      <td>78_peag_25539_olt_228978_pebib_12FTTH90439</td>\n",
       "      <td>100</td>\n",
       "    </tr>\n",
       "    <tr>\n",
       "      <th>1708</th>\n",
       "      <td>33_peag_37719_olt_97733_pebib_47FTTH89623</td>\n",
       "      <td>100</td>\n",
       "    </tr>\n",
       "    <tr>\n",
       "      <th>5506</th>\n",
       "      <td>78_peag_164477_olt_471278_pebib_134FTTH96477</td>\n",
       "      <td>100</td>\n",
       "    </tr>\n",
       "  </tbody>\n",
       "</table>\n",
       "<p>8057 rows × 2 columns</p>\n",
       "</div>"
      ],
      "text/plain": [
       "                                    PEAG_OLT_PEBIB  count\n",
       "8052     95_peag_292795_olt_562192_pebib_10BU54095   1488\n",
       "8053      95_peag_292895_olt_562477_pebib_160BU495   1488\n",
       "8054     95_peag_292995_olt_562692_pebib_10BU54095   1488\n",
       "8026    94_peag_291594_olt_559294_pebib_173BU51094   1488\n",
       "8027    94_peag_291694_olt_559694_pebib_201BU53894   1488\n",
       "...                                            ...    ...\n",
       "5570     78_peag_239478_olt_474678_pebib_181BU2478    100\n",
       "5578   78_peag_239578_olt_473478_pebib_134BU151278    100\n",
       "5724    78_peag_25539_olt_228978_pebib_12FTTH90439    100\n",
       "1708     33_peag_37719_olt_97733_pebib_47FTTH89623    100\n",
       "5506  78_peag_164477_olt_471278_pebib_134FTTH96477    100\n",
       "\n",
       "[8057 rows x 2 columns]"
      ]
     },
     "execution_count": 85,
     "metadata": {},
     "output_type": "execute_result"
    }
   ],
   "source": [
    "new_df_grouped"
   ]
  },
  {
   "cell_type": "code",
   "execution_count": 5,
   "metadata": {},
   "outputs": [],
   "source": [
    "# 1. Séparation entre lignes avec et sans pebib, puisqu'en séparant ainsi les dataframes, on peut par la suite potentiellement remplacer les PEBIBS dans le DF incomplet depuis le DF complet\n",
    "new_df_pebib_nan = new_df[new_df['pebib'] == 'PEBIB non defini']\n",
    "new_df_non_pebib_nan = new_df[new_df['pebib'] != 'PEBIB non defini']\n",
    "\n",
    "# 2. Récupération des OLT communs : on regarde les lignes des 2 DF qui ont les mêmes OLT (granularité la plus large)\n",
    "olt_nan = set(new_df_pebib_nan['olt_name'].unique())\n",
    "olt_non_nan = set(new_df_non_pebib_nan['olt_name'].unique())\n",
    "olt_communs = list(olt_nan & olt_non_nan)\n",
    "\n",
    "# 3. Sélection des OLT avec un seul pebib défini : ce qui nous intéresse, c'est de trouver les OLT communs qui n'ont ensuite qu'un seul PEBIB défini afin de pouvoir ensuite le remplacer dans le DF incomplet\n",
    "# En effet, si pour un même OLT, on a plusieurs PEBIBS, on ne peut pas savoir lequel choisir\n",
    "olt_uniques_pebib = []\n",
    "for olt in olt_communs:\n",
    "    df_non_nan_olt = new_df_non_pebib_nan[new_df_non_pebib_nan['olt_name'] == olt]\n",
    "    if df_non_nan_olt['pebib'].nunique() == 1:\n",
    "        olt_uniques_pebib.append(olt)\n",
    "\n",
    "# 4. Construction du résumé OLT\n",
    "resume_olt = []\n",
    "for olt in olt_uniques_pebib:\n",
    "    count_nan = new_df_pebib_nan[new_df_pebib_nan['olt_name'] == olt].shape[0]\n",
    "    count_def = new_df_non_pebib_nan[new_df_non_pebib_nan['olt_name'] == olt].shape[0]\n",
    "    pebib_val = new_df_non_pebib_nan[new_df_non_pebib_nan['olt_name'] == olt]['pebib'].unique()[0]\n",
    "    resume_olt.append({\n",
    "        'olt_name': olt,\n",
    "        'nb_lignes_pebib_defini': count_def,\n",
    "        'nb_lignes_pebib_manquant': count_nan,\n",
    "        'sum': count_def + count_nan,\n",
    "        'pebib_unique': pebib_val\n",
    "    })\n",
    "\n",
    "df_resume_olt = pd.DataFrame(resume_olt)\n",
    "df_resume_olt.sort_values(by='sum', ascending=False, inplace=True)\n",
    "df_resume_olt.reset_index(drop=True, inplace=True)\n",
    "\n",
    "# 5. Vérification stricte du profil technique pour OLT avec sum ≤ 1488 car plus de 1488 lignes signifie qu'il y a un problème niveau horaire et si un autre élément de la chaine technique diffère\n",
    "# alors on ne peut pas remplacer avec certitude le PEBIB manquant\n",
    "verif_profil_strict = []\n",
    "df_cible = df_resume_olt[df_resume_olt['sum'] <= 1488]\n",
    "\n",
    "for _, row in df_cible.iterrows():\n",
    "    olt = row['olt_name']\n",
    "    df_olt = new_df[new_df['olt_name'] == olt]\n",
    "    groupe_technique = df_olt.groupby(['code_departement', 'peag_nro', 'boucle']).size()\n",
    "    profils_identiques = (len(groupe_technique) == 1)\n",
    "    verif_profil_strict.append({\n",
    "        'olt_name': olt,\n",
    "        'nb_lignes_pebib_defini': row['nb_lignes_pebib_defini'],\n",
    "        'nb_lignes_pebib_manquant': row['nb_lignes_pebib_manquant'],\n",
    "        'sum': row['sum'],\n",
    "        'pebib_unique': row['pebib_unique'],\n",
    "        'profil_technique_identique': profils_identiques\n",
    "    })\n",
    "\n",
    "df_verif_profil_strict = pd.DataFrame(verif_profil_strict)\n",
    "\n",
    "# 6. Imputation des pebib manquants pour les OLT fiables\n",
    "new_df_pebib_nan_imputed = new_df_pebib_nan.copy()\n",
    "df_a_imputer = df_verif_profil_strict[df_verif_profil_strict['profil_technique_identique'] == True]\n",
    "\n",
    "for _, row in df_a_imputer.iterrows():\n",
    "    mask = new_df_pebib_nan_imputed['olt_name'] == row['olt_name']\n",
    "    new_df_pebib_nan_imputed.loc[mask, 'pebib'] = row['pebib_unique']\n",
    "\n",
    "# 7. Reconstruction du DataFrame final\n",
    "new_df_final = pd.concat([new_df_non_pebib_nan, new_df_pebib_nan_imputed], ignore_index=True)\n",
    "\n",
    "# 8. Recalcul de la colonne PEAG_OLT_PEBIB\n",
    "new_df_final['PEAG_OLT_PEBIB'] = (\n",
    "    new_df_final['peag_nro'].astype(str) +\n",
    "    new_df_final['olt_name'].astype(str) +\n",
    "    new_df_final['pebib'].astype(str) +\n",
    "    new_df_final['boucle'].astype(str) +\n",
    "    new_df_final['code_departement'].astype(str)\n",
    ")\n"
   ]
  },
  {
   "cell_type": "code",
   "execution_count": 6,
   "metadata": {},
   "outputs": [
    {
     "data": {
      "text/html": [
       "<div>\n",
       "<style scoped>\n",
       "    .dataframe tbody tr th:only-of-type {\n",
       "        vertical-align: middle;\n",
       "    }\n",
       "\n",
       "    .dataframe tbody tr th {\n",
       "        vertical-align: top;\n",
       "    }\n",
       "\n",
       "    .dataframe thead th {\n",
       "        text-align: right;\n",
       "    }\n",
       "</style>\n",
       "<table border=\"1\" class=\"dataframe\">\n",
       "  <thead>\n",
       "    <tr style=\"text-align: right;\">\n",
       "      <th></th>\n",
       "      <th>PEAG_OLT_PEBIB</th>\n",
       "      <th>count</th>\n",
       "    </tr>\n",
       "  </thead>\n",
       "  <tbody>\n",
       "    <tr>\n",
       "      <th>11</th>\n",
       "      <td>01_peag_201_olt_221_pebib_2BU96601</td>\n",
       "      <td>1488</td>\n",
       "    </tr>\n",
       "    <tr>\n",
       "      <th>8038</th>\n",
       "      <td>95_peag_292795_olt_562192_pebib_10BU54095</td>\n",
       "      <td>1488</td>\n",
       "    </tr>\n",
       "    <tr>\n",
       "      <th>8039</th>\n",
       "      <td>95_peag_292895_olt_562477_pebib_160BU495</td>\n",
       "      <td>1488</td>\n",
       "    </tr>\n",
       "    <tr>\n",
       "      <th>8040</th>\n",
       "      <td>95_peag_292995_olt_562692_pebib_10BU54095</td>\n",
       "      <td>1488</td>\n",
       "    </tr>\n",
       "    <tr>\n",
       "      <th>8041</th>\n",
       "      <td>95_peag_293095_olt_5628PEBIB non definiBU106095</td>\n",
       "      <td>1488</td>\n",
       "    </tr>\n",
       "    <tr>\n",
       "      <th>...</th>\n",
       "      <td>...</td>\n",
       "      <td>...</td>\n",
       "    </tr>\n",
       "    <tr>\n",
       "      <th>505</th>\n",
       "      <td>13_peag_30513_olt_623PEBIB non definiBU163683</td>\n",
       "      <td>100</td>\n",
       "    </tr>\n",
       "    <tr>\n",
       "      <th>5566</th>\n",
       "      <td>78_peag_239578_olt_473478_pebib_134BU151278</td>\n",
       "      <td>100</td>\n",
       "    </tr>\n",
       "    <tr>\n",
       "      <th>5712</th>\n",
       "      <td>78_peag_25539_olt_228978_pebib_12FTTH90439</td>\n",
       "      <td>100</td>\n",
       "    </tr>\n",
       "    <tr>\n",
       "      <th>5558</th>\n",
       "      <td>78_peag_239478_olt_474678_pebib_181BU2478</td>\n",
       "      <td>100</td>\n",
       "    </tr>\n",
       "    <tr>\n",
       "      <th>3132</th>\n",
       "      <td>45_peag_45518_olt_89745_pebib_52FTTH42018</td>\n",
       "      <td>100</td>\n",
       "    </tr>\n",
       "  </tbody>\n",
       "</table>\n",
       "<p>8043 rows × 2 columns</p>\n",
       "</div>"
      ],
      "text/plain": [
       "                                       PEAG_OLT_PEBIB  count\n",
       "11                 01_peag_201_olt_221_pebib_2BU96601   1488\n",
       "8038        95_peag_292795_olt_562192_pebib_10BU54095   1488\n",
       "8039         95_peag_292895_olt_562477_pebib_160BU495   1488\n",
       "8040        95_peag_292995_olt_562692_pebib_10BU54095   1488\n",
       "8041  95_peag_293095_olt_5628PEBIB non definiBU106095   1488\n",
       "...                                               ...    ...\n",
       "505     13_peag_30513_olt_623PEBIB non definiBU163683    100\n",
       "5566      78_peag_239578_olt_473478_pebib_134BU151278    100\n",
       "5712       78_peag_25539_olt_228978_pebib_12FTTH90439    100\n",
       "5558        78_peag_239478_olt_474678_pebib_181BU2478    100\n",
       "3132        45_peag_45518_olt_89745_pebib_52FTTH42018    100\n",
       "\n",
       "[8043 rows x 2 columns]"
      ]
     },
     "execution_count": 6,
     "metadata": {},
     "output_type": "execute_result"
    }
   ],
   "source": [
    "new_new_df_grouped = new_df_final.groupby('PEAG_OLT_PEBIB').size().reset_index(name='count').sort_values(by='count', ascending=False)\n",
    "new_df_final.to_csv(\"new_df_final.csv\", index=False)\n",
    "new_new_df_grouped"
   ]
  },
  {
   "cell_type": "code",
   "execution_count": 7,
   "metadata": {},
   "outputs": [],
   "source": [
    "# Maintenant continuons sur les chaines qui techniques qui une fois merge entre les OLT, ont plus de 1488 lignes\n",
    "df_final_extended = new_df_final.copy()\n",
    "\n",
    "df_ambigus = df_resume_olt[df_resume_olt['sum'] > 1488].copy()\n",
    "\n",
    "for _, row in df_ambigus.iterrows():\n",
    "    olt = row['olt_name']\n",
    "    \n",
    "    # Sélection des lignes de cet OLT dans le DataFrame final\n",
    "    df_olt = df_final_extended[df_final_extended['olt_name'] == olt]\n",
    "    \n",
    "    # Regroupement par combinaison technique\n",
    "    grouped = df_olt.groupby(['code_departement', 'peag_nro', 'boucle'])\n",
    "    \n",
    "    for keys, group in grouped:\n",
    "        nb_lignes = group.shape[0]\n",
    "        pebibs_uniques = group['pebib'].dropna().unique()\n",
    "        pebibs_valides = [p for p in pebibs_uniques if p != 'PEBIB non defini']\n",
    "        \n",
    "        # Condition pour imputation sûre\n",
    "        if len(pebibs_valides) == 1 and nb_lignes <= 1488:\n",
    "            pebib_val = pebibs_valides[0]\n",
    "            mask = (\n",
    "                (df_final_extended['olt_name'] == olt) &\n",
    "                (df_final_extended['code_departement'] == keys[0]) &\n",
    "                (df_final_extended['peag_nro'] == keys[1]) &\n",
    "                (df_final_extended['boucle'] == keys[2]) &\n",
    "                (df_final_extended['pebib'] == 'PEBIB non defini')\n",
    "            )\n",
    "            df_final_extended.loc[mask, 'pebib'] = pebib_val\n",
    "\n",
    "\n",
    "# Recalcul de la colonne PEAG_OLT_PEBIB\n",
    "df_final_extended['PEAG_OLT_PEBIB'] = (\n",
    "    df_final_extended['peag_nro'].astype(str) +\n",
    "    df_final_extended['olt_name'].astype(str) +\n",
    "    df_final_extended['pebib'].astype(str) +\n",
    "    df_final_extended['boucle'].astype(str) +\n",
    "    df_final_extended['code_departement'].astype(str)\n",
    ")\n",
    "\n",
    "# Résultat final après TOUTES les imputations\n",
    "new_df_final_v2 = df_final_extended.copy()"
   ]
  },
  {
   "cell_type": "code",
   "execution_count": 8,
   "metadata": {},
   "outputs": [
    {
     "data": {
      "text/html": [
       "<div>\n",
       "<style scoped>\n",
       "    .dataframe tbody tr th:only-of-type {\n",
       "        vertical-align: middle;\n",
       "    }\n",
       "\n",
       "    .dataframe tbody tr th {\n",
       "        vertical-align: top;\n",
       "    }\n",
       "\n",
       "    .dataframe thead th {\n",
       "        text-align: right;\n",
       "    }\n",
       "</style>\n",
       "<table border=\"1\" class=\"dataframe\">\n",
       "  <thead>\n",
       "    <tr style=\"text-align: right;\">\n",
       "      <th></th>\n",
       "      <th>PEAG_OLT_PEBIB</th>\n",
       "      <th>count</th>\n",
       "    </tr>\n",
       "  </thead>\n",
       "  <tbody>\n",
       "    <tr>\n",
       "      <th>1</th>\n",
       "      <td>01_peag_101_olt_169_pebib_1BU96601</td>\n",
       "      <td>1488</td>\n",
       "    </tr>\n",
       "    <tr>\n",
       "      <th>11</th>\n",
       "      <td>01_peag_201_olt_221_pebib_2BU96601</td>\n",
       "      <td>1488</td>\n",
       "    </tr>\n",
       "    <tr>\n",
       "      <th>8039</th>\n",
       "      <td>95_peag_293095_olt_5628PEBIB non definiBU106095</td>\n",
       "      <td>1488</td>\n",
       "    </tr>\n",
       "    <tr>\n",
       "      <th>3341</th>\n",
       "      <td>57_peag_157557_olt_3300PEBIB non definiBU67657</td>\n",
       "      <td>1488</td>\n",
       "    </tr>\n",
       "    <tr>\n",
       "      <th>8020</th>\n",
       "      <td>95_peag_291995_olt_563092_pebib_11BU2495</td>\n",
       "      <td>1488</td>\n",
       "    </tr>\n",
       "    <tr>\n",
       "      <th>...</th>\n",
       "      <td>...</td>\n",
       "      <td>...</td>\n",
       "    </tr>\n",
       "    <tr>\n",
       "      <th>1700</th>\n",
       "      <td>33_peag_37719_olt_97733_pebib_47FTTH89623</td>\n",
       "      <td>100</td>\n",
       "    </tr>\n",
       "    <tr>\n",
       "      <th>5712</th>\n",
       "      <td>78_peag_25539_olt_228978_pebib_12FTTH90439</td>\n",
       "      <td>100</td>\n",
       "    </tr>\n",
       "    <tr>\n",
       "      <th>5566</th>\n",
       "      <td>78_peag_239578_olt_473478_pebib_134BU151278</td>\n",
       "      <td>100</td>\n",
       "    </tr>\n",
       "    <tr>\n",
       "      <th>5558</th>\n",
       "      <td>78_peag_239478_olt_474678_pebib_181BU2478</td>\n",
       "      <td>100</td>\n",
       "    </tr>\n",
       "    <tr>\n",
       "      <th>5563</th>\n",
       "      <td>78_peag_239578_olt_472978_pebib_134BU151278</td>\n",
       "      <td>100</td>\n",
       "    </tr>\n",
       "  </tbody>\n",
       "</table>\n",
       "<p>8041 rows × 2 columns</p>\n",
       "</div>"
      ],
      "text/plain": [
       "                                       PEAG_OLT_PEBIB  count\n",
       "1                  01_peag_101_olt_169_pebib_1BU96601   1488\n",
       "11                 01_peag_201_olt_221_pebib_2BU96601   1488\n",
       "8039  95_peag_293095_olt_5628PEBIB non definiBU106095   1488\n",
       "3341   57_peag_157557_olt_3300PEBIB non definiBU67657   1488\n",
       "8020         95_peag_291995_olt_563092_pebib_11BU2495   1488\n",
       "...                                               ...    ...\n",
       "1700        33_peag_37719_olt_97733_pebib_47FTTH89623    100\n",
       "5712       78_peag_25539_olt_228978_pebib_12FTTH90439    100\n",
       "5566      78_peag_239578_olt_473478_pebib_134BU151278    100\n",
       "5558        78_peag_239478_olt_474678_pebib_181BU2478    100\n",
       "5563      78_peag_239578_olt_472978_pebib_134BU151278    100\n",
       "\n",
       "[8041 rows x 2 columns]"
      ]
     },
     "execution_count": 8,
     "metadata": {},
     "output_type": "execute_result"
    }
   ],
   "source": [
    "new_new_df_grouped = new_df_final_v2.groupby('PEAG_OLT_PEBIB').size().reset_index(name='count').sort_values(by='count', ascending=False)\n",
    "new_df_final_v2.to_csv(\"new_df_final.csv\", index=False)\n",
    "new_new_df_grouped"
   ]
  },
  {
   "cell_type": "code",
   "execution_count": 9,
   "metadata": {},
   "outputs": [
    {
     "data": {
      "image/png": "[encoded data removed]",
      "text/plain": [
       "<Figure size 1200x600 with 1 Axes>"
      ]
     },
     "metadata": {},
     "output_type": "display_data"
    }
   ],
   "source": [
    "visualize_distribution_single(new_new_df_grouped, \"Distribution du nombre d'observation par combinaison\")"
   ]
  }
 ],
 "metadata": {
  "kernelspec": {
   "display_name": ".venv",
   "language": "python",
   "name": "python3"
  },
  "language_info": {
   "codemirror_mode": {
    "name": "ipython",
    "version": 3
   },
   "file_extension": ".py",
   "mimetype": "text/x-python",
   "name": "python",
   "nbconvert_exporter": "python",
   "pygments_lexer": "ipython3",
   "version": "3.13.0"
  }
 },
 "nbformat": 4,
 "nbformat_minor": 2
}
